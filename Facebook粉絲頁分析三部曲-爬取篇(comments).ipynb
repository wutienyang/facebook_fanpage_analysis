{
 "cells": [
  {
   "cell_type": "markdown",
   "metadata": {
    "deletable": true,
    "editable": true
   },
   "source": [
    "# 如何爬取Facebook粉絲頁資料 (comments) ？\n",
    "基本上是透過 **Facebook Graph API** 去取得粉絲頁的資料,但是使用 **Facebook Graph API** 還需要取得權限,有兩種方法 :  \n",
    "第一種是取得 Access Token  \n",
    "第二種是建立 Facebook App的應用程式,用該應用程式的帳號,密碼當作權限  \n",
    "兩者的差別在於第一種會有時效限制,必須每隔一段時間去更新Access Token,才能使用  \n",
    "Access Token\n",
    "![title](https://raw.githubusercontent.com/wutienyang/facebook_fanpage_analysis/master/image/Selection_003.png)  "
   ]
  },
  {
   "cell_type": "markdown",
   "metadata": {
    "deletable": true,
    "editable": true
   },
   "source": [
    "本文是採用第二種方法  \n",
    "要先取得應用程式的帳號,密碼 app_id, app_secret  \n",
    "![title](https://raw.githubusercontent.com/wutienyang/facebook_fanpage_analysis/master/image/Selection_004.png)"
   ]
  },
  {
   "cell_type": "code",
   "execution_count": 1,
   "metadata": {
    "collapsed": true,
    "deletable": true,
    "editable": true
   },
   "outputs": [],
   "source": [
    "# 載入python 套件\n",
    "import requests\n",
    "import datetime\n",
    "import time\n",
    "import pandas as pd"
   ]
  },
  {
   "cell_type": "markdown",
   "metadata": {
    "deletable": true,
    "editable": true
   },
   "source": [
    "第一步 - 要先取得應用程式的帳號,密碼 (app_id, app_secret)  \n",
    "第二步 - 輸入要分析的粉絲團的 id  \n",
    "[[教學]如何申請建立 Facebook APP ID 應用程式ID](https://sofree.cc/apply-facebook-app-id/)  "
   ]
  },
  {
   "cell_type": "code",
   "execution_count": 2,
   "metadata": {
    "collapsed": true,
    "deletable": true,
    "editable": true
   },
   "outputs": [],
   "source": [
    "# 粉絲頁的id\n",
    "page_id = \"appledaily.tw\"\n",
    "\n",
    "# 應用程式的帳號,密碼\n",
    "app_id = \"\"\n",
    "app_secret = \"\"\n",
    "\n",
    "# 上一篇爬取的post的csv檔案\n",
    "post_path = 'post/'+page_id+'_post.csv'\n",
    "\n",
    "access_token = app_id + \"|\" + app_secret"
   ]
  },
  {
   "cell_type": "markdown",
   "metadata": {
    "deletable": true,
    "editable": true
   },
   "source": [
    "![title](https://raw.githubusercontent.com/wutienyang/facebook_fanpage_analysis/master/image/Selection_011.png)  \n",
    "這篇是承襲上一篇 fb粉絲團分析and輸出報告-抓取篇(posts)  \n",
    "上一篇提到說,會爬取每一則粉絲頁po文,而本文的目標就是在把該post裡面的留言  \n",
    "都給爬取出來,所以會需要用到每一個post的id,也就是說需要上一篇的檔案才有辦法爬取  \n",
    "\n",
    "基本上由4個function來完成：  \n",
    "\n",
    "`request_until_succeed`  \n",
    "來確保完成爬取  \n",
    "\n",
    "`getFacebookCommentFeedData`  \n",
    "來產生comment的各種資料(message,like_count,created_time,comments,from...)\n",
    "\n",
    "`processFacebookComment`  \n",
    "是處理getFacebookPageFeedData得到的各種資料,把它們結構化  \n",
    "\n",
    "`scrapeFacebookPageFeedComments`  \n",
    "主程式"
   ]
  },
  {
   "cell_type": "code",
   "execution_count": 3,
   "metadata": {
    "collapsed": true,
    "deletable": true,
    "editable": true
   },
   "outputs": [],
   "source": [
    "# 判斷response有無正常 正常 200，若無隔五秒鐘之後再試\n",
    "def request_until_succeed(url):\n",
    "    success = False\n",
    "    while success is False:\n",
    "        try: \n",
    "            req = requests.get(url)\n",
    "            if req.status_code == 200:\n",
    "                success = True\n",
    "            if req.status_code == 400:\n",
    "                return None\n",
    "        except Exception as e:\n",
    "            print(e)\n",
    "            time.sleep(5)\n",
    "            print(\"Error for URL %s: %s\" % (url, datetime.datetime.now()))\n",
    "            print(\"Retrying.\")\n",
    "    return req"
   ]
  },
  {
   "cell_type": "markdown",
   "metadata": {
    "deletable": true,
    "editable": true
   },
   "source": [
    "url = base + node + fields + parameters  \n",
    "base : 可以設定Facebook Graph API的版本,這邊設定v2.6  \n",
    "node : 分析哪個粉絲頁的post 由page_id去設定  \n",
    "fields : 你要取得資料的種類  \n",
    "parameters : 權限設定和每次取多少筆(num_statuses)  "
   ]
  },
  {
   "cell_type": "code",
   "execution_count": 4,
   "metadata": {
    "collapsed": true,
    "deletable": true,
    "editable": true
   },
   "outputs": [],
   "source": [
    "def getFacebookCommentFeedData(status_id, access_token, num_comments):\n",
    "    \n",
    "    base = \"https://graph.facebook.com/v2.6\"\n",
    "    node = \"/%s/comments\" % status_id\n",
    "    fields = \"?fields=id,message,like_count,created_time,comments,from,attachment\"\n",
    "    parameters = \"&order=chronological&limit=%s&access_token=%s\" % \\\n",
    "            (num_comments, access_token)\n",
    "    url = base + node + fields + parameters\n",
    "\n",
    "    # 取得data\n",
    "    data = request_until_succeed(url)\n",
    "    if data is None:\n",
    "        return None\n",
    "    else:\n",
    "        return data.json()"
   ]
  },
  {
   "cell_type": "code",
   "execution_count": 5,
   "metadata": {
    "collapsed": true,
    "deletable": true,
    "editable": true
   },
   "outputs": [],
   "source": [
    "def processFacebookComment(comment, status_id, parent_id = ''):\n",
    "    \n",
    "    # 確認資料欄位是否有值,並做處理\n",
    "    comment_id = comment['id']\n",
    "    comment_author = comment['from']['name']\n",
    "    if 'message' not in comment:\n",
    "        comment_message = ''\n",
    "    else:\n",
    "        comment_message = comment['message']\n",
    "    if 'like_count' not in comment:\n",
    "        comment_likes = 0 \n",
    "    else:\n",
    "        comment_likes = comment['like_count']\n",
    "    \n",
    "    if 'attachment' in comment:\n",
    "        attach_tag = \"[[%s]]\" % comment['attachment']['type'].upper()\n",
    "        if comment_message is '':\n",
    "            comment_message = attach_tag\n",
    "        else:\n",
    "            comment_message = (comment_message+ \" \" +attach_tag)\n",
    "\n",
    "    comment_published = datetime.datetime.strptime(comment['created_time'],'%Y-%m-%dT%H:%M:%S+0000')\n",
    "     # 根據所在時區 TW +8\n",
    "    comment_published = comment_published + datetime.timedelta(hours=8)\n",
    "    comment_published = comment_published.strftime('%Y-%m-%d %H:%M:%S')\n",
    "    \n",
    "    # 回傳tuple形式的資料\n",
    "    return (comment_id, status_id, parent_id, comment_message, comment_author,\n",
    "            comment_published, comment_likes)"
   ]
  },
  {
   "cell_type": "markdown",
   "metadata": {
    "deletable": true,
    "editable": true
   },
   "source": [
    "主程式概念是這樣的,每一個posts會用while迴圈來把所有的留言都爬出來  \n",
    "而每一個留言又會有另一個while迴圈把回覆留言的留言再爬出來,所以總共有兩個while迴圈  "
   ]
  },
  {
   "cell_type": "code",
   "execution_count": 6,
   "metadata": {
    "collapsed": false,
    "deletable": true,
    "editable": true
   },
   "outputs": [],
   "source": [
    "def scrapeFacebookPageFeedComments(page_id, access_token, post_path):\n",
    "    \n",
    "    # all_statuses 用來儲存的list,先放入欄位名稱\n",
    "    all_comments = [(\"comment_id\", \"status_id\", \"parent_id\", \"comment_message\",\n",
    "        \"comment_author\", \"comment_published\", \"comment_likes\")]\n",
    "\n",
    "    num_processed = 0   # 計算處理多少post\n",
    "    scrape_starttime = datetime.datetime.now()\n",
    "\n",
    "    print(\"Scraping %s Comments From Posts: %s\\n\" % (page_id, scrape_starttime))\n",
    "    \n",
    "    post_df = pd.read_csv(post_path)\n",
    "\n",
    "    for status_id in post_df['status_id']:\n",
    "        has_next_page = True\n",
    "\n",
    "        comments = getFacebookCommentFeedData(status_id, access_token, 100)\n",
    "\n",
    "        while has_next_page and comments is not None:\n",
    "            for comment in comments['data']:\n",
    "                \n",
    "                all_comments.append(processFacebookComment(comment, status_id))\n",
    "                if 'comments' in comment:\n",
    "                    has_next_subpage = True\n",
    "\n",
    "                    subcomments = getFacebookCommentFeedData(comment['id'], access_token, 100)\n",
    "\n",
    "                    while has_next_subpage:\n",
    "                        for subcomment in subcomments['data']:\n",
    "                            all_comments.append(processFacebookComment(\n",
    "                                    subcomment,\n",
    "                                    status_id,\n",
    "                                    comment['id']))\n",
    "\n",
    "                            num_processed += 1\n",
    "                            if num_processed % 1000 == 0:\n",
    "                                print(\"%s Comments Processed: %s\" %\n",
    "                                      (num_processed,\n",
    "                                       datetime.datetime.now()))\n",
    "\n",
    "                        if 'paging' in subcomments:\n",
    "                            if 'next' in subcomments['paging']:\n",
    "                                data =  request_until_succeed(subcomments['paging']['next'])\n",
    "                                if data != None:\n",
    "                                    subcomments = data.json()\n",
    "                                else:\n",
    "                                    subcomments = None\n",
    "                            else:\n",
    "                                has_next_subpage = False\n",
    "                        else:\n",
    "                            has_next_subpage = False\n",
    "                            \n",
    "                num_processed += 1\n",
    "                if num_processed % 1000 == 0:\n",
    "                    print(\"%s Comments Processed: %s\" %\n",
    "                          (num_processed, datetime.datetime.now()))\n",
    "\n",
    "            if 'paging' in comments:\n",
    "                if 'next' in comments['paging']:\n",
    "                    data =  request_until_succeed(comments['paging']['next'])\n",
    "                    if data != None:\n",
    "                        comments = data.json()\n",
    "                    else:\n",
    "                        comments = None\n",
    "                else:\n",
    "                    has_next_page = False\n",
    "            else:\n",
    "                has_next_page = False\n",
    "                \n",
    "    print(\"\\nDone!\\n%s Comments Processed in %s\" %\n",
    "          (num_processed, datetime.datetime.now() - scrape_starttime))\n",
    "    return all_comments"
   ]
  },
  {
   "cell_type": "markdown",
   "metadata": {
    "deletable": true,
    "editable": true
   },
   "source": [
    "總共跑完有690628筆,106Mb,要花十幾個小時  \n",
    "all_statuses[0] 為 column name  \n",
    "all_statuses[1:] 為處理後結構化的資料  "
   ]
  },
  {
   "cell_type": "code",
   "execution_count": 8,
   "metadata": {
    "collapsed": false,
    "deletable": true,
    "editable": true,
    "scrolled": true
   },
   "outputs": [],
   "source": [
    "all_comments = scrapeFacebookPageFeedComments(page_id, access_token, post_path)\n",
    "df = pd.DataFrame(all_comments[1:], columns=all_comments[0])"
   ]
  },
  {
   "cell_type": "code",
   "execution_count": 9,
   "metadata": {
    "collapsed": false,
    "deletable": true,
    "editable": true
   },
   "outputs": [],
   "source": [
    "path = 'comment/'+page_id+'_comment.csv'\n",
    "df = pd.DataFrame(all_comments[1:], columns=all_comments[0])\n",
    "df.to_csv(path,index=False,encoding='utf8')"
   ]
  },
  {
   "cell_type": "markdown",
   "metadata": {
    "collapsed": true,
    "deletable": true,
    "editable": true
   },
   "source": [
    "![title](https://raw.githubusercontent.com/wutienyang/facebook_fanpage_analysis/master/image/Selection_014.png)"
   ]
  },
  {
   "cell_type": "code",
   "execution_count": null,
   "metadata": {
    "collapsed": true,
    "deletable": true,
    "editable": true
   },
   "outputs": [],
   "source": []
  }
 ],
 "metadata": {
  "kernelspec": {
   "display_name": "Python 3",
   "language": "python",
   "name": "python3"
  },
  "language_info": {
   "codemirror_mode": {
    "name": "ipython",
    "version": 3
   },
   "file_extension": ".py",
   "mimetype": "text/x-python",
   "name": "python",
   "nbconvert_exporter": "python",
   "pygments_lexer": "ipython3",
   "version": "3.6.0"
  }
 },
 "nbformat": 4,
 "nbformat_minor": 2
}
